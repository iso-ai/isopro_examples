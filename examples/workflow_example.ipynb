{
  "cells": [
    {
      "cell_type": "markdown",
      "metadata": {
        "id": "view-in-github",
        "colab_type": "text"
      },
      "source": [
        "<a href=\"https://colab.research.google.com/github/iso-ai/isopro_examples/blob/main/examples/workflow_example.ipynb\" target=\"_parent\"><img src=\"https://colab.research.google.com/assets/colab-badge.svg\" alt=\"Open In Colab\"/></a>"
      ]
    },
    {
      "cell_type": "markdown",
      "metadata": {
        "id": "84PT8aNqTAcM"
      },
      "source": [
        "# Automating a Meme Generator with Workflow Simulation\n",
        "This notebook demonstrates how to use isopro.workflow_simulation to automate a meme generation workflow. We'll train an agent to:\n",
        "\n",
        "1. Navigate a meme generator website\n",
        "2. Upload images\n",
        "3. Add captions\n",
        "4. Generate and download memes\n",
        "\n",
        "And do it all automatically!"
      ]
    },
    {
      "cell_type": "markdown",
      "metadata": {
        "id": "670J4JObTAcN"
      },
      "source": [
        "## Setup\n",
        "First, let's import our required libraries and set up our environment:"
      ]
    },
    {
      "cell_type": "code",
      "source": [
        "!pip3 install isopro --upgrade\n",
        "!pip install stable-baselines3\n",
        "!pip install anthropic\n",
        "!pip install python-dotenv\n",
        "!pip install iso-adverse\n",
        "!pip install isozero\n",
        "!pip install tiktoken"
      ],
      "metadata": {
        "id": "KGUlviwMTo-i"
      },
      "execution_count": null,
      "outputs": []
    },
    {
      "cell_type": "code",
      "execution_count": null,
      "metadata": {
        "id": "RTMb-hyeTAcO"
      },
      "outputs": [],
      "source": [
        "import os\n",
        "from pathlib import Path\n",
        "from isopro import (\n",
        "    WorkflowSimulator,\n",
        "    AgentConfig,\n",
        "    VisualizationConfig,\n",
        "    ValidationConfig\n",
        ")\n",
        "import matplotlib.pyplot as plt\n",
        "from IPython.display import Image, HTML\n",
        "from google.colab import userdata"
      ]
    },
    {
      "cell_type": "markdown",
      "metadata": {
        "id": "oCF4WnFxTAcO"
      },
      "source": [
        "## Configuration\n",
        "Let's create a fun configuration for our meme generator automation:"
      ]
    },
    {
      "cell_type": "code",
      "execution_count": null,
      "metadata": {
        "id": "oRlsiIaJTAcP"
      },
      "outputs": [],
      "source": [
        "# Create output directory for our memes\n",
        "output_dir = Path(\"meme_generator.mp4\")\n",
        "output_dir.mkdir(exist_ok=True)\n",
        "\n",
        "# Configure our agent with some fun parameters\n",
        "agent_config = AgentConfig(\n",
        "    learning_rate=3e-4,  # Not too fast, not too slow - just right for meme making\n",
        "    pretrain_epochs=10,  # Give it some time to learn the art of memes\n",
        "    use_demonstration=True,  # Learn from the meme masters\n",
        "    use_reasoning=True,  # Think before you meme\n",
        "    reward_threshold=0.8  # High standards for our memes!\n",
        ")\n",
        "\n",
        "# Set up visualization so we can watch the magic happen\n",
        "viz_config = VisualizationConfig(\n",
        "    show_ui_elements=True,  # See what the agent sees\n",
        "    show_cursor=True,  # Watch the cursor dance\n",
        "    show_actions=True,  # Understand what's happening\n",
        "    save_frames=True,  # Save the best moments\n",
        "    real_time_display=True  # Watch it live!\n",
        ")\n",
        "\n",
        "# Define what makes a successful meme\n",
        "validation_config = ValidationConfig.from_dict({\n",
        "    \"success_criteria\": [\n",
        "        \"image_uploaded\",\n",
        "        \"captions_added\",\n",
        "        \"meme_generated\",\n",
        "        \"meme_downloaded\"\n",
        "    ],\n",
        "    \"error_tolerance\": 0.1  # Some memes are meant to be a little off...\n",
        "})"
      ]
    },
    {
      "cell_type": "markdown",
      "metadata": {
        "id": "M4ZHXFa2TAcP"
      },
      "source": [
        "## Recording a Demonstration\n",
        "Before we can train our agent, we need to show it how to make memes. Here's how we record a demonstration:"
      ]
    },
    {
      "cell_type": "code",
      "execution_count": null,
      "metadata": {
        "id": "H3iC2cAPTAcP"
      },
      "outputs": [],
      "source": [
        "# Initialize our simulator\n",
        "simulator = WorkflowSimulator(\n",
        "    video_path=\"/content/meme-generator.mp4\",  # Your recorded workflow video\n",
        "    agent_config=agent_config,\n",
        "    viz_config=viz_config,\n",
        "    validation_config=validation_config,\n",
        "    output_dir=str(output_dir)\n",
        ")\n",
        "\n",
        "# Let's see what our demonstration video looks like\n",
        "display(HTML(f\"\"\"\n",
        "<video width=\"640\" height=\"480\" controls>\n",
        "    <source src=\"meme_tutorial.mp4\" type=\"video/mp4\">\n",
        "    Your browser does not support the video tag.\n",
        "</video>\n",
        "\"\"\"))"
      ]
    },
    {
      "cell_type": "markdown",
      "metadata": {
        "id": "V2AxSNhxTAcP"
      },
      "source": [
        "## Training Our Meme Master\n",
        "Now that we have our demonstration, let's train our agent to become a meme master:"
      ]
    },
    {
      "cell_type": "code",
      "execution_count": null,
      "metadata": {
        "id": "E-yJTuHBTAcP"
      },
      "outputs": [],
      "source": [
        "# Time to learn!\n",
        "print(\"🎓 Training our agent to become a meme master...\")\n",
        "training_results = simulator.train_agents()\n",
        "\n",
        "# Create a training visualization\n",
        "plt.figure(figsize=(12, 6))\n",
        "\n",
        "# Create subplots for different metrics\n",
        "fig, (ax1, ax2) = plt.subplots(1, 2, figsize=(15, 5))\n",
        "\n",
        "# Plot mean reward\n",
        "ax1.bar(['Mean Reward'], [training_results['mean_reward']],\n",
        "        color='#66B2FF', alpha=0.7)\n",
        "ax1.set_ylim(0, 1.0)\n",
        "ax1.set_title('Mean Reward')\n",
        "ax1.grid(True, alpha=0.3)\n",
        "\n",
        "# Plot success rate\n",
        "ax2.bar(['Success Rate'], [training_results['success_rate']],\n",
        "        color='#99FF99', alpha=0.7)\n",
        "ax2.set_ylim(0, 1.0)\n",
        "ax2.set_title('Success Rate')\n",
        "ax2.grid(True, alpha=0.3)\n",
        "\n",
        "plt.suptitle(\"Meme Master Training Results\", fontsize=14)\n",
        "plt.tight_layout()\n",
        "plt.show()\n",
        "\n",
        "# Print fun stats with emojis\n",
        "print(\"\\n🎯 Training Results:\")\n",
        "print(f\"🎲 Average Reward: {training_results['mean_reward']:.2f}\")\n",
        "print(f\"⭐ Success Rate: {training_results['success_rate']*100:.1f}%\")\n",
        "print(f\"📊 Total Episodes: {training_results['total_episodes']}\")\n",
        "print(f\"⏱️ Mean Episode Length: {training_results['mean_length']:.1f} steps\")\n",
        "print(f\"📈 Reward Std Dev: {training_results['std_reward']:.2f}\")\n",
        "\n",
        "# Add some fun commentary based on the results\n",
        "success_rate = training_results['success_rate']\n",
        "if success_rate > 0.9:\n",
        "    print(\"\\n🏆 Wow! Your agent is a certified meme lord!\")\n",
        "elif success_rate > 0.7:\n",
        "    print(\"\\n🌟 Pretty good! Your agent is becoming a meme artisan!\")\n",
        "elif success_rate > 0.5:\n",
        "    print(\"\\n📚 Not bad! Your agent is learning the ways of the meme!\")\n",
        "else:\n",
        "    print(\"\\n🌱 Keep training! Even meme masters started somewhere!\")"
      ]
    },
    {
      "cell_type": "markdown",
      "metadata": {
        "id": "JMqE7W79TAcQ"
      },
      "source": [
        "## Unleashing the Meme Generator\n",
        "Let's use our trained agent to generate some memes!"
      ]
    },
    {
      "cell_type": "code",
      "execution_count": null,
      "metadata": {
        "id": "B1p8_Np1TAcQ"
      },
      "outputs": [],
      "source": [
        "# Prepare some fun meme templates and captions\n",
        "meme_tasks = [\n",
        "    {\n",
        "        \"template\": \"distracted_boyfriend.jpg\",\n",
        "        \"captions\": [\n",
        "            \"Python\",\n",
        "            \"Me\",\n",
        "            \"JavaScript\"\n",
        "        ]\n",
        "    },\n",
        "    {\n",
        "        \"template\": \"drake.jpg\",\n",
        "        \"captions\": [\n",
        "            \"Writing code without comments\",\n",
        "            \"Writing comments without code\"\n",
        "        ]\n",
        "    },\n",
        "    {\n",
        "        \"template\": \"expanding_brain.jpg\",\n",
        "        \"captions\": [\n",
        "            \"print('debug')\",\n",
        "            \"console.log('debug')\",\n",
        "            \"Using a debugger\",\n",
        "            \"Adding random print statements and hoping for the best\"\n",
        "        ]\n",
        "    }\n",
        "]\n",
        "\n",
        "# Generate memes!\n",
        "print(\"🎨 Generating memes...\")\n",
        "for i, task in enumerate(meme_tasks, 1):\n",
        "    print(f\"\\n✨ Creating meme {i}/{len(meme_tasks)}\")\n",
        "    print(f\"Template: {task['template']}\")\n",
        "    print(f\"Captions: {', '.join(task['captions'])}\")\n",
        "\n",
        "    try:\n",
        "        # Reset the environment\n",
        "        observation, info = simulator.reset()\n",
        "\n",
        "        # Initialize metrics for this meme\n",
        "        total_reward = 0\n",
        "        steps = 0\n",
        "        done = False\n",
        "        truncated = False\n",
        "\n",
        "        # Generate the meme step by step\n",
        "        while not (done or truncated):\n",
        "            # Generate action using the environment's action space\n",
        "            action = simulator.action_space.sample()  # For demonstration\n",
        "\n",
        "            # Take a step in the environment\n",
        "            observation, reward, done, truncated, info = simulator.step(action)\n",
        "\n",
        "            total_reward += reward\n",
        "            steps += 1\n",
        "\n",
        "            # Show progress\n",
        "            if steps % 5 == 0:\n",
        "                print(f\"🔄 Step {steps}, Reward: {total_reward:.2f}\")\n",
        "\n",
        "            # Optional: Add task-specific actions based on the current step\n",
        "            if 'ui_elements' in observation:\n",
        "                for element in observation['ui_elements']:\n",
        "                    if element['type'] == 'textbox' and task['captions']:\n",
        "                        # Add caption to textbox\n",
        "                        action = {\n",
        "                            'action_type': 3,  # type action\n",
        "                            'target_element': element['bbox'],\n",
        "                            'parameters': {\n",
        "                                'text_input': task['captions'][0],\n",
        "                                'drag_end': [0, 0]\n",
        "                            }\n",
        "                        }\n",
        "                        task['captions'] = task['captions'][1:]\n",
        "\n",
        "            # Check for success or timeout\n",
        "            if info.get('meme_generated') or steps >= 100:\n",
        "                break\n",
        "\n",
        "        # Show final results for this meme\n",
        "        print(f\"\\n📊 Meme Generation Stats:\")\n",
        "        print(f\"Total Steps: {steps}\")\n",
        "        print(f\"Total Reward: {total_reward:.2f}\")\n",
        "\n",
        "        # Display the generated meme if available\n",
        "        meme_path = output_dir / f\"meme_{i}.png\"\n",
        "        if meme_path.exists():\n",
        "            display(Image(filename=str(meme_path)))\n",
        "        else:\n",
        "            print(\"⚠️ Meme image not found - but that's okay! This is a demo.\")\n",
        "\n",
        "    except Exception as e:\n",
        "        print(f\"❌ Error generating meme {i}: {str(e)}\")\n",
        "        print(\"Don't worry! This is expected in the demo without a real UI.\")\n",
        "        continue\n",
        "\n",
        "    print(\"\\n\" + \"=\"*50 + \"\\n\")\n",
        "\n",
        "print(\"\"\"\n",
        "✨ Meme Complete! ✨\"\"\")"
      ]
    },
    {
      "cell_type": "markdown",
      "metadata": {
        "id": "k3g4anURTAcQ"
      },
      "source": [
        "## Analyzing Our Meme Factory\n",
        "Let's look at some fun statistics about our meme generation:"
      ]
    },
    {
      "cell_type": "code",
      "execution_count": null,
      "metadata": {
        "id": "c6qsnVV0TAcQ"
      },
      "outputs": [],
      "source": [
        "# Get evaluation results\n",
        "eval_results = simulator.evaluate_agents()\n",
        "\n",
        "# Create a fun visualization of our meme factory stats\n",
        "stats = {\n",
        "    \"Memes Generated\": len(meme_tasks),\n",
        "    \"Success Rate\": f\"{eval_results['success_rate']*100:.1f}%\",\n",
        "    \"Average Generation Time\": f\"{eval_results['mean_length']:.1f}s\",\n",
        "    \"Quality Score\": f\"{eval_results['mean_reward']:.2f}/1.0\"\n",
        "}\n",
        "\n",
        "print(\"📊 Meme Factory Statistics:\")\n",
        "for stat, value in stats.items():\n",
        "    print(f\"{stat}: {value}\")\n",
        "\n",
        "# Plot a fun pie chart of time spent on each step\n",
        "steps = [\n",
        "    \"Finding Templates\",\n",
        "    \"Adding Captions\",\n",
        "    \"Adjusting Layout\",\n",
        "    \"Generating Meme\",\n",
        "    \"Saving Masterpiece\"\n",
        "]\n",
        "times = [15, 30, 25, 20, 10]  # Example percentages\n",
        "\n",
        "plt.figure(figsize=(10, 8))\n",
        "plt.pie(times, labels=steps, autopct='%1.1f%%',\n",
        "        colors=['#FF9999', '#66B2FF', '#99FF99', '#FFCC99', '#FF99CC'])\n",
        "plt.title(\"Time Spent Making Memes\")\n",
        "plt.show()"
      ]
    },
    {
      "cell_type": "markdown",
      "metadata": {
        "id": "OdMRJlNgTAcQ"
      },
      "source": [
        "# Conclusion\n",
        "Congratulations! You've successfully created an automated meme factory! 🎉\n",
        "Some fun things we learned:\n",
        "\n",
        "- Our agent can learn to navigate UI elements and create memes\n",
        "- The power of combining computer vision with reinforcement learning\n",
        "- How to make our code more entertaining with emojis 😄\n",
        "\n",
        "## Next Steps\n",
        "Want to make your meme factory even better? Here are some fun ideas:\n",
        "\n",
        "- Train on different meme templates\n",
        "- Add text effects and styling\n",
        "- Create a meme recommendation system\n",
        "- Build a Discord bot using this automation\n",
        "- Generate captions using Claude"
      ]
    }
  ],
  "metadata": {
    "kernelspec": {
      "display_name": "Python 3",
      "language": "python",
      "name": "python3"
    },
    "language_info": {
      "name": "python",
      "version": "3.12.7"
    },
    "orig_nbformat": 4,
    "vscode": {
      "interpreter": {
        "hash": "7500c3e1c7c786e4ba1e4b4eb7588219b4e35d5153674f92eb3a82672b534f6e"
      }
    },
    "colab": {
      "provenance": [],
      "include_colab_link": true
    }
  },
  "nbformat": 4,
  "nbformat_minor": 0
}