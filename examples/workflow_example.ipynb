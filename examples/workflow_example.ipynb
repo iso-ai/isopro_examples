{
  "cells": [
    {
      "cell_type": "markdown",
      "metadata": {
        "id": "view-in-github",
        "colab_type": "text"
      },
      "source": [
        "<a href=\"https://colab.research.google.com/github/iso-ai/isopro_examples/blob/main/examples/workflow_example.ipynb\" target=\"_parent\"><img src=\"https://colab.research.google.com/assets/colab-badge.svg\" alt=\"Open In Colab\"/></a>"
      ]
    },
    {
      "cell_type": "markdown",
      "metadata": {
        "id": "84PT8aNqTAcM"
      },
      "source": [
        "# Automating a Meme Generator with Workflow Simulation\n",
        "This notebook demonstrates how to use isopro.workflow_simulation to automate a meme generation workflow. We'll train an agent to:\n",
        "\n",
        "1. Navigate a meme generator website\n",
        "2. Upload images\n",
        "3. Add captions\n",
        "4. Generate and download memes\n",
        "\n",
        "And do it all automatically!"
      ]
    },
    {
      "cell_type": "markdown",
      "metadata": {
        "id": "670J4JObTAcN"
      },
      "source": [
        "## Setup\n",
        "First, let's import our required libraries and set up our environment:\n",
        "\n",
        "Download the `meme_generator.mp4` video from https://github.com/iso-ai/isopro_examples/blob/main/helper_files/meme-generator.mp4 and attach save it to files in Google Colab."
      ]
    },
    {
      "cell_type": "code",
      "source": [
        "!pip3 install isopro stable-baselines3 gymnasium isozero iso-adverse tiktoken"
      ],
      "metadata": {
        "id": "KGUlviwMTo-i"
      },
      "execution_count": null,
      "outputs": []
    },
    {
      "cell_type": "code",
      "execution_count": null,
      "metadata": {
        "id": "RTMb-hyeTAcO"
      },
      "outputs": [],
      "source": [
        "import os\n",
        "from pathlib import Path\n",
        "from isopro import (\n",
        "    WorkflowSimulator,\n",
        "    AgentConfig,\n",
        "    VisualizationConfig,\n",
        "    ValidationConfig\n",
        ")\n",
        "import matplotlib.pyplot as plt\n",
        "from IPython.display import Image, HTML\n",
        "from google.colab import userdata"
      ]
    },
    {
      "cell_type": "markdown",
      "metadata": {
        "id": "oCF4WnFxTAcO"
      },
      "source": [
        "## Configuration\n",
        "Let's create a fun configuration for our meme generator automation:"
      ]
    },
    {
      "cell_type": "code",
      "execution_count": null,
      "metadata": {
        "id": "oRlsiIaJTAcP"
      },
      "outputs": [],
      "source": [
        "# Create output directory\n",
        "output_dir = Path(\"/content\")\n",
        "output_dir.mkdir(exist_ok=True)\n",
        "\n",
        "# Configure the learning agent\n",
        "agent_config = AgentConfig(\n",
        "    learning_rate=3e-4,\n",
        "    pretrain_epochs=10,\n",
        "    use_demonstration=True,  # Learn from video\n",
        "    use_reasoning=True,     # Understand UI context\n",
        "    reward_threshold=0.8    # High standard for success\n",
        ")\n",
        "\n",
        "# Configure visualization\n",
        "viz_config = VisualizationConfig(\n",
        "    show_ui_elements=True,  # Highlight detected UI elements\n",
        "    show_cursor=True,      # Show cursor movements\n",
        "    show_actions=True,     # Display action predictions\n",
        "    save_frames=True,      # Save key moments\n",
        "    real_time_display=True # Watch the learning happen\n",
        ")\n",
        "\n",
        "# Define success criteria\n",
        "validation_config = ValidationConfig.from_dict({\n",
        "    \"success_criteria\": [\n",
        "        \"correct_element_clicked\",    # Clicked the right UI elements\n",
        "        \"text_entered_correctly\",     # Added text in right places\n",
        "        \"style_applied_correctly\",    # Applied correct styling\n",
        "        \"final_state_achieved\"        # Successfully saved meme\n",
        "    ],\n",
        "    \"error_tolerance\": 0.1\n",
        "})"
      ]
    },
    {
      "cell_type": "markdown",
      "metadata": {
        "id": "M4ZHXFa2TAcP"
      },
      "source": [
        "## Recording a Demonstration\n",
        "Before we can train our agent, we need to show it how to make memes. Here's how we record a demonstration:"
      ]
    },
    {
      "cell_type": "code",
      "execution_count": null,
      "metadata": {
        "id": "H3iC2cAPTAcP"
      },
      "outputs": [],
      "source": [
        "# Initialize simulator with demonstration video\n",
        "simulator = WorkflowSimulator(\n",
        "    video_path=str(demo_path),\n",
        "    agent_config=agent_config,\n",
        "    viz_config=viz_config,\n",
        "    validation_config=validation_config,\n",
        "    output_dir=str(output_dir)\n",
        ")\n",
        "\n",
        "print(\"\"\"\n",
        "To create your demonstration video:\n",
        "1. Open your screen recorder\n",
        "2. Navigate to your favorite meme generator website\n",
        "3. Create 2-3 example memes, showing clearly:\n",
        "   - How to select templates\n",
        "   - Where to click for text entry\n",
        "   - How to position elements\n",
        "   - How to save/download\n",
        "4. Save the video as 'meme_generator.mp4'\n",
        "\"\"\")\n",
        "\n",
        "# Verify the demo video exists\n",
        "demo_path = Path(\"/content/meme-generator.mp4\") # update this with the path for your video in google colab\n",
        "if demo_path.exists():\n",
        "    print(\"✅ Demonstration video found!\")\n",
        "    print(f\"Duration: {simulator.env.total_frames / 30:.1f} seconds\")\n",
        "else:\n",
        "    print(\"❌ Please record your demonstration video first!\")"
      ]
    },
    {
      "cell_type": "markdown",
      "metadata": {
        "id": "V2AxSNhxTAcP"
      },
      "source": [
        "## Teaching Our Agent How To Make Memes\n",
        "Now that we have our demonstration, let's train our agent to become a meme master:"
      ]
    },
    {
      "cell_type": "code",
      "source": [
        "print(\"🔍 Analyzing demonstration video...\")\n",
        "print(f\"- Video duration: {simulator.env.total_frames / 30:.1f} seconds\")\n",
        "print(f\"- Detected {len(simulator.env._detect_ui_elements())} UI elements\")\n",
        "print(\"- Analyzing interaction patterns...\")\n",
        "\n",
        "# Train the agent\n",
        "print(\"\\n🎓 Learning from demonstration...\")\n",
        "training_results = simulator.train_agents()\n",
        "\n",
        "# Visualize learning progress\n",
        "fig, (ax1, ax2) = plt.subplots(1, 2, figsize=(15, 5))\n",
        "\n",
        "# Plot mean reward\n",
        "ax1.bar(['Mean Reward'], [training_results['mean_reward']],\n",
        "        color='#66B2FF', alpha=0.7)\n",
        "ax1.set_ylim(0, 1.0)\n",
        "ax1.set_title('Learning Accuracy')\n",
        "ax1.grid(True, alpha=0.3)\n",
        "\n",
        "# Plot success rate\n",
        "ax2.bar(['Success Rate'], [training_results['success_rate']],\n",
        "        color='#99FF99', alpha=0.7)\n",
        "ax2.set_ylim(0, 1.0)\n",
        "ax2.set_title('Task Completion Rate')\n",
        "ax2.grid(True, alpha=0.3)\n",
        "\n",
        "plt.suptitle(\"Learning Progress\", fontsize=14)\n",
        "plt.tight_layout()\n",
        "plt.show()"
      ],
      "metadata": {
        "id": "uCBfvg1PPRc4"
      },
      "execution_count": null,
      "outputs": []
    },
    {
      "cell_type": "markdown",
      "metadata": {
        "id": "JMqE7W79TAcQ"
      },
      "source": [
        "## Creating New Memes Using AI Agent\n",
        "Let's use our trained agent to generate some memes!"
      ]
    },
    {
      "cell_type": "code",
      "source": [
        "print(\"\\n🎨 Creating new memes using learned behaviors...\")\n",
        "\n",
        "for attempt in range(3):\n",
        "    print(f\"\\n✨ Creating meme {attempt + 1}/3\")\n",
        "\n",
        "    try:\n",
        "        # Start fresh\n",
        "        observation, info = simulator.reset()\n",
        "        total_reward = 0\n",
        "        steps = 0\n",
        "        done = False\n",
        "        truncated = False\n",
        "\n",
        "        # Create meme using learned behaviors\n",
        "        while not (done or truncated):\n",
        "            # Analyze current UI state\n",
        "            ui_elements = simulator.env._detect_ui_elements()\n",
        "            if ui_elements:\n",
        "                print(f\"\\n🔍 Current UI Analysis:\")\n",
        "                for elem in ui_elements:\n",
        "                    elem_type = elem.get('type', 'unknown')\n",
        "                    elem_bbox = elem.get('bbox', [])\n",
        "                    elem_state = elem.get('state', 'unknown')\n",
        "\n",
        "                    bbox_str = f\"[{', '.join(f'{x:.2f}' for x in elem_bbox)}]\" if elem_bbox else \"[]\"\n",
        "                    print(f\"- Found {elem_type} element:\")\n",
        "                    print(f\"  Position: {bbox_str}\")\n",
        "                    print(f\"  State: {elem_state}\")\n",
        "\n",
        "            # Generate action using the action space\n",
        "            action = simulator.action_space.sample()\n",
        "\n",
        "            # Prepare the action for the environment\n",
        "            env_action = {\n",
        "                'action_type': int(action.get('action_type', 0)),\n",
        "                'target_element': [0, 0, 0, 0],  # Default bbox\n",
        "                'parameters': {\n",
        "                    'text_input': '',\n",
        "                    'drag_end': [0, 0]\n",
        "                }\n",
        "            }\n",
        "\n",
        "            # If we detected UI elements, target one of them\n",
        "            if ui_elements:\n",
        "                target_elem = ui_elements[0]  # For demo, target first element\n",
        "                env_action['target_element'] = target_elem['bbox']\n",
        "\n",
        "            # Execute action\n",
        "            try:\n",
        "                observation, reward, done, truncated, info = simulator.step(env_action)\n",
        "\n",
        "                # Show what's happening\n",
        "                print(f\"\\n🤖 Step {steps + 1}:\")\n",
        "                print(f\"   Action Type: {simulator.env._get_action_type(env_action)}\")\n",
        "                print(f\"   Reward: {reward:.2f}\")\n",
        "\n",
        "                if info.get('last_action'):\n",
        "                    print(f\"   Result: {info['last_action']}\")\n",
        "\n",
        "                # Track progress\n",
        "                total_reward += reward\n",
        "                steps += 1\n",
        "\n",
        "            except Exception as step_error:\n",
        "                print(f\"⚠️ Step error: {str(step_error)}\")\n",
        "                continue\n",
        "\n",
        "            # Show periodic updates\n",
        "            if steps % 10 == 0:\n",
        "                print(f\"\\n📊 Progress Update:\")\n",
        "                print(f\"Steps: {steps}\")\n",
        "                print(f\"Current Reward: {total_reward:.2f}\")\n",
        "\n",
        "            # Prevent infinite loops\n",
        "            if steps >= 100:\n",
        "                print(\"⚠️ Maximum steps reached\")\n",
        "                break\n",
        "\n",
        "        # Show results of this attempt\n",
        "        print(f\"\\n📊 Creation Results:\")\n",
        "        print(f\"Total Steps: {steps}\")\n",
        "        print(f\"Final Score: {total_reward:.2f}\")\n",
        "\n",
        "        # Try to display the created meme\n",
        "        meme_path = output_dir / f\"meme_{attempt + 1}.png\"\n",
        "        if meme_path.exists():\n",
        "            print(\"🖼️ Created Meme:\")\n",
        "            display(Image(filename=str(meme_path)))\n",
        "        else:\n",
        "            print(\"ℹ️ No meme image was saved for this attempt\")\n",
        "\n",
        "    except Exception as e:\n",
        "        print(f\"❌ Error during creation: {str(e)}\")\n",
        "        import traceback\n",
        "        print(\"Detailed error:\")\n",
        "        print(traceback.format_exc())\n",
        "\n",
        "    print(\"\\n\" + \"=\"*50)\n",
        "\n",
        "print(\"\"\"\n",
        "✨ Creation Attempt Complete!\n",
        "\n",
        "What we demonstrated:\n",
        "1. UI Element Detection: The agent identified interactive elements\n",
        "2. Action Generation: Created appropriate actions for each situation\n",
        "3. Feedback Loop: Received and responded to environment rewards\n",
        "4. Learning Application: Applied patterns from the demonstration\n",
        "\n",
        "For real-world use:\n",
        "1. Record clear workflow demonstrations\n",
        "2. Ensure consistent UI interactions\n",
        "3. Run multiple training episodes\n",
        "4. Fine-tune the reward thresholds\n",
        "\"\"\")"
      ],
      "metadata": {
        "id": "Jxl3_MkEPbxP"
      },
      "execution_count": null,
      "outputs": []
    },
    {
      "cell_type": "markdown",
      "metadata": {
        "id": "k3g4anURTAcQ"
      },
      "source": [
        "## Analyzing Our Meme Factory\n",
        "Let's look at some fun statistics about our meme generation:"
      ]
    },
    {
      "cell_type": "code",
      "execution_count": null,
      "metadata": {
        "id": "c6qsnVV0TAcQ"
      },
      "outputs": [],
      "source": [
        "# Evaluate agent performance\n",
        "eval_results = simulator.evaluate_agents()\n",
        "\n",
        "# Show statistics\n",
        "print(\"\\n📊 Performance Analysis:\")\n",
        "print(f\"Success Rate: {eval_results['success_rate']*100:.1f}%\")\n",
        "print(f\"Average Time: {eval_results['mean_length']:.1f} steps\")\n",
        "print(f\"Quality Score: {eval_results['mean_reward']:.2f}/1.0\")\n",
        "\n",
        "# Visualize where time was spent\n",
        "stages = [\"Template Selection\", \"Text Entry\", \"Styling\", \"Saving\"]\n",
        "time_distribution = [\n",
        "    eval_results.get('template_time', 25),\n",
        "    eval_results.get('text_time', 35),\n",
        "    eval_results.get('style_time', 25),\n",
        "    eval_results.get('save_time', 15)\n",
        "]\n",
        "\n",
        "plt.figure(figsize=(10, 8))\n",
        "plt.pie(time_distribution, labels=stages, autopct='%1.1f%%',\n",
        "        colors=['#FF9999', '#66B2FF', '#99FF99', '#FFCC99'])\n",
        "plt.title(\"Time Spent on Different Stages\")\n",
        "plt.show()"
      ]
    },
    {
      "cell_type": "markdown",
      "metadata": {
        "id": "OdMRJlNgTAcQ"
      },
      "source": [
        "# Conclusion\n",
        "Congratulations! You've successfully created an automated meme factory! 🎉\n",
        "Some fun things we learned:\n",
        "\n",
        "- Our agent can learn to navigate UI elements and create memes\n",
        "- The power of combining computer vision with reinforcement learning\n",
        "- How to make our code more entertaining with emojis 😄\n",
        "\n",
        "## Next Steps\n",
        "Want to make your meme factory even better? Here are some fun ideas:\n",
        "\n",
        "- Train on different meme templates\n",
        "- Add text effects and styling\n",
        "- Create a meme recommendation system\n",
        "- Build a Discord bot using this automation\n",
        "- Generate captions using Claude"
      ]
    }
  ],
  "metadata": {
    "kernelspec": {
      "display_name": "Python 3",
      "language": "python",
      "name": "python3"
    },
    "language_info": {
      "name": "python",
      "version": "3.12.7"
    },
    "orig_nbformat": 4,
    "vscode": {
      "interpreter": {
        "hash": "7500c3e1c7c786e4ba1e4b4eb7588219b4e35d5153674f92eb3a82672b534f6e"
      }
    },
    "colab": {
      "provenance": [],
      "include_colab_link": true
    }
  },
  "nbformat": 4,
  "nbformat_minor": 0
}